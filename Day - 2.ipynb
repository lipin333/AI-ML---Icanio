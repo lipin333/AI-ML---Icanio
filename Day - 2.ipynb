{
  "nbformat": 4,
  "nbformat_minor": 0,
  "metadata": {
    "colab": {
      "provenance": []
    },
    "kernelspec": {
      "name": "python3",
      "display_name": "Python 3"
    },
    "language_info": {
      "name": "python"
    }
  },
  "cells": [
    {
      "cell_type": "code",
      "execution_count": null,
      "metadata": {
        "colab": {
          "base_uri": "https://localhost:8080/"
        },
        "id": "Nh_kOkVHIKFy",
        "outputId": "500d26cb-bf1a-4947-cf48-82adfe89990a"
      },
      "outputs": [
        {
          "output_type": "stream",
          "name": "stdout",
          "text": [
            "raju 123\n",
            "ram 456\n"
          ]
        }
      ],
      "source": [
        "#using class and object (OOPS) concept\n",
        "class student:\n",
        "  def __init__(self,name, rollno):\n",
        "    self.name = name\n",
        "    self.rollno = rollno\n",
        "obj1 = student(\"raju\",\"123\")\n",
        "obj2 = student(\"ram\",\"456\")\n",
        "print(obj1.name,obj1.rollno)\n",
        "print(obj2.name,obj2.rollno)"
      ]
    },
    {
      "cell_type": "code",
      "source": [
        "#Using class and object (__str__) concept\n",
        "class student:\n",
        "  def __init__(self,name,rollno):\n",
        "    self.name = name\n",
        "    self.rollno = rollno\n",
        "\n",
        "  def __str__(self):\n",
        "    return f\"Student Name: {self.name},Roll Number: {self.rollno}\"\n",
        "\n",
        "res = student(\"Motu\",\"678\")\n",
        "print(res)"
      ],
      "metadata": {
        "colab": {
          "base_uri": "https://localhost:8080/"
        },
        "id": "-vXTayHoPph6",
        "outputId": "db3ec424-5bfe-49d8-d0c4-97f2ea9a7909"
      },
      "execution_count": null,
      "outputs": [
        {
          "output_type": "stream",
          "name": "stdout",
          "text": [
            "Student Name: Motu,Roll Number: 678\n"
          ]
        }
      ]
    },
    {
      "cell_type": "code",
      "source": [
        "#Using Encapsulation\n",
        "#protected(_age) #private(__age)\n",
        "class mobilephone:\n",
        "  def __init__(self,brand,model,price):\n",
        "    self._brand = brand\n",
        "    self._model = model\n",
        "    self._price = price\n",
        "\n",
        "  def get_brand(self):\n",
        "    return self._brand\n",
        "\n",
        "  def get_model(self):\n",
        "    return self._model\n",
        "\n",
        "  def set_price(self,price):\n",
        "    if price > 0:\n",
        "      self._price = price\n",
        "    else:\n",
        "      print(\"Invalid Price\")\n",
        "\n",
        "  def get_details(self):\n",
        "    return f\"Brand: {self._brand},model:{self._model},price{self._price}\"\n",
        "\n",
        "res = mobilephone(\"Oppo\",2025,25000)\n",
        "print(res.get_details())"
      ],
      "metadata": {
        "colab": {
          "base_uri": "https://localhost:8080/"
        },
        "id": "svt5syL8Wouo",
        "outputId": "9fd06b2d-e91a-4f10-aebb-ffda1f367d9d"
      },
      "execution_count": null,
      "outputs": [
        {
          "output_type": "stream",
          "name": "stdout",
          "text": [
            "Brand: Oppo,model:2025,price25000\n"
          ]
        }
      ]
    },
    {
      "cell_type": "code",
      "source": [
        "#Inheritence (multiple)\n",
        "class Father:\n",
        "    def skills(self):\n",
        "        print(\"Father: gardening, carpentry\")\n",
        "\n",
        "class Mother:\n",
        "    def skills(self):\n",
        "        print(\"Mother: cooking, painting\")\n",
        "\n",
        "class Child(Father, Mother):\n",
        "    def skills(self):\n",
        "        super().skills()\n",
        "        print(\"Child: programming\")\n",
        "\n",
        "c = Child()\n",
        "c.skills()\n"
      ],
      "metadata": {
        "id": "slTtFlojXwNQ",
        "colab": {
          "base_uri": "https://localhost:8080/"
        },
        "outputId": "f9c33d99-d304-4152-a986-46be253f0742"
      },
      "execution_count": 1,
      "outputs": [
        {
          "output_type": "stream",
          "name": "stdout",
          "text": [
            "Father: gardening, carpentry\n",
            "Child: programming\n"
          ]
        }
      ]
    },
    {
      "cell_type": "code",
      "source": [
        "#Polymorphism\n",
        "class Animal:\n",
        "    def sound(self):\n",
        "        print(\"Animals make different sounds\")\n",
        "\n",
        "class Dog(Animal):\n",
        "    def sound(self):\n",
        "        print(\"Dog barks\")\n",
        "\n",
        "class Cat(Animal):\n",
        "    def sound(self):\n",
        "        print(\"Cat meows\")\n",
        "\n",
        "def make_sound(animal):\n",
        "    animal.sound()\n",
        "\n",
        "a = Animal()\n",
        "d = Dog()\n",
        "c = Cat()\n",
        "\n",
        "make_sound(a)\n",
        "make_sound(d)\n",
        "make_sound(c)\n"
      ],
      "metadata": {
        "colab": {
          "base_uri": "https://localhost:8080/"
        },
        "id": "M9I0Qo7gWRnI",
        "outputId": "9dba3d61-3e23-431e-e82d-ee5b52742e18"
      },
      "execution_count": 2,
      "outputs": [
        {
          "output_type": "stream",
          "name": "stdout",
          "text": [
            "Animals make different sounds\n",
            "Dog barks\n",
            "Cat meows\n"
          ]
        }
      ]
    },
    {
      "cell_type": "code",
      "source": [
        "from abc import ABC, abstractmethod\n",
        "\n",
        "class Animal(ABC):\n",
        "    @abstractmethod\n",
        "    def sound(self):\n",
        "        pass\n",
        "\n",
        "class Dog(Animal):\n",
        "    def sound(self):\n",
        "        print(\"Dog barks\")\n",
        "\n",
        "class Cat(Animal):\n",
        "    def sound(self):\n",
        "        print(\"Cat meows\")\n",
        "\n",
        "d = Dog()\n",
        "c = Cat()\n",
        "\n",
        "d.sound()\n",
        "c.sound()\n"
      ],
      "metadata": {
        "colab": {
          "base_uri": "https://localhost:8080/"
        },
        "id": "196iIHI5XLqp",
        "outputId": "39a4e590-d9a3-4f7b-da8f-579aa693354e"
      },
      "execution_count": 3,
      "outputs": [
        {
          "output_type": "stream",
          "name": "stdout",
          "text": [
            "Dog barks\n",
            "Cat meows\n"
          ]
        }
      ]
    }
  ]
}